{
 "cells": [
  {
   "cell_type": "markdown",
   "id": "8dfb941b-7a51-42fe-ba54-0ecadda2523b",
   "metadata": {},
   "source": [
    "# ⛈️ ⛈️ Control of stormwater systems using pystorms ⛈️ ⛈️\n",
    "\n",
    "pystorms is a curated collection of stormwater networks developed for prototyping and evaluating stormwater control algorithms. It uses pyswmm as its backend for interacting with the EPA-SWMM's simulation engine."
   ]
  },
  {
   "cell_type": "code",
   "execution_count": null,
   "id": "15bb4176-c5c3-4812-ba46-432193c4937f",
   "metadata": {},
   "outputs": [],
   "source": [
    "# Google Colab might need to reinstall pystorms\n",
    "!pip install pystorms"
   ]
  },
  {
   "cell_type": "code",
   "execution_count": 1,
   "id": "776b4589-8fd3-4bc3-ae27-a4ab7299dbd9",
   "metadata": {},
   "outputs": [],
   "source": [
    "import pystorms\n",
    "import matplotlib.pyplot as plt"
   ]
  },
  {
   "cell_type": "code",
   "execution_count": 2,
   "id": "7f47c770-0bc1-4e30-8c7a-d3332175994c",
   "metadata": {},
   "outputs": [],
   "source": [
    "# RC parms for pertty plots\n",
    "plt.rcParams.update({'font.size': 14})\n",
    "plt.style.use('seaborn-whitegrid')\n",
    "plt.style.use('seaborn-dark-palette')"
   ]
  },
  {
   "cell_type": "markdown",
   "id": "7561d574-22c5-4310-80f8-eed80ef36b74",
   "metadata": {},
   "source": [
    "In this example, we would be using scenario theta\n",
    "\n",
    "![theta](./theta_sheet.png)\n",
    "\n",
    "### Model IDs in Scenario Theta\n",
    "```yaml\n",
    "# name of scearnio \n",
    "name: theta\n",
    "# state definitions\n",
    "states:\n",
    "        - !!python/tuple \n",
    "          - P1\n",
    "          - depthN\n",
    "        - !!python/tuple\n",
    "          - P2\n",
    "          - depthN\n",
    "# Action space \n",
    "action_space:\n",
    "        - \"1\"\n",
    "        - \"2\"\n",
    "# Performance Targets\n",
    "performance_targets:\n",
    "        - !!python/tuple\n",
    "          - \"8\"\n",
    "          - flow\n",
    "        - !!python/tuple\n",
    "          - P1\n",
    "          - flooding\n",
    "        - !!python/tuple\n",
    "          - P2\n",
    "          - flooding\n",
    "```"
   ]
  },
  {
   "cell_type": "markdown",
   "id": "7a2d997a-8157-4a0e-9dd1-3193608c5806",
   "metadata": {},
   "source": [
    "### Simulating control using pystorms"
   ]
  },
  {
   "cell_type": "code",
   "execution_count": 47,
   "id": "cff3217f-d853-44e9-a800-1073bc8f6592",
   "metadata": {},
   "outputs": [
    {
     "name": "stdout",
     "output_type": "stream",
     "text": [
      "\n",
      " o  Retrieving project data"
     ]
    }
   ],
   "source": [
    "env = pystorms.scenarios.theta()\n",
    "done = False"
   ]
  },
  {
   "cell_type": "markdown",
   "id": "1bb808b8-7273-4626-94eb-7863bc4688b6",
   "metadata": {},
   "source": [
    "pystorms abstacts the control of stormwater networks as scenarios. Each scenario comprises of a stormwater network, an event driver, a set of states and controllable assets, and a performance metric.\n",
    "\n",
    "```python\n",
    "env = pystorms.scenarios.theta()\n",
    "```\n",
    "\n",
    "The above command initalizes the stormwater control scenario and starts the simulation."
   ]
  },
  {
   "cell_type": "code",
   "execution_count": 48,
   "id": "e942ccd9-5503-4366-84e3-69e17de5fdcc",
   "metadata": {},
   "outputs": [],
   "source": [
    "while not done:\n",
    "    # query the current state of the simulation\n",
    "    state = env.state()\n",
    "    \n",
    "    # Initialize random actions\n",
    "    actions = [1.00, 1.00]\n",
    "    \n",
    "    # set the actions and progress the simulation\n",
    "    done = env.step(actions)"
   ]
  },
  {
   "cell_type": "markdown",
   "id": "6f7f1150-325d-447f-b6de-3d63bb108833",
   "metadata": {},
   "source": [
    "pystorms also computes the performance metric as it runs through the simulation."
   ]
  },
  {
   "cell_type": "code",
   "execution_count": 49,
   "id": "52db7bb3-83e0-4060-8f8b-20fdf2b68ad2",
   "metadata": {},
   "outputs": [
    {
     "data": {
      "text/plain": [
       "1630.3422288715237"
      ]
     },
     "execution_count": 49,
     "metadata": {},
     "output_type": "execute_result"
    }
   ],
   "source": [
    "env.performance()"
   ]
  },
  {
   "cell_type": "code",
   "execution_count": 19,
   "id": "7ced1a00-006e-44b6-a4d4-a9130f3bb041",
   "metadata": {},
   "outputs": [
    {
     "data": {
      "text/plain": [
       "dict_keys(['performance_measure', 'flow', 'flooding', 'simulation_time'])"
      ]
     },
     "execution_count": 19,
     "metadata": {},
     "output_type": "execute_result"
    }
   ],
   "source": [
    "env.data_log.keys()"
   ]
  },
  {
   "cell_type": "code",
   "execution_count": 22,
   "id": "06390a87-fe2c-4e62-a47d-1bb42f4ad8eb",
   "metadata": {},
   "outputs": [
    {
     "data": {
      "text/plain": [
       "dict_keys(['8'])"
      ]
     },
     "execution_count": 22,
     "metadata": {},
     "output_type": "execute_result"
    }
   ],
   "source": [
    "env.data_log['flow'].keys()"
   ]
  },
  {
   "cell_type": "code",
   "execution_count": 25,
   "id": "81701440-61a3-4737-84ca-bc4dbd697a13",
   "metadata": {},
   "outputs": [
    {
     "data": {
      "text/plain": [
       "[4.4933228890095494e-05,\n",
       " 4.492085410367944e-05,\n",
       " 4.490848420155321e-05,\n",
       " 4.4896119169411195e-05,\n",
       " 4.4883759016013713e-05,\n",
       " 4.487140375564894e-05,\n",
       " 4.485905339890831e-05,\n",
       " 4.484670795361076e-05,\n",
       " 4.483436742480517e-05,\n",
       " 4.482484695924919e-05]"
      ]
     },
     "execution_count": 25,
     "metadata": {},
     "output_type": "execute_result"
    }
   ],
   "source": [
    "env.data_log['flow']['8'][-10:]"
   ]
  },
  {
   "cell_type": "markdown",
   "id": "b6a1cc8a-f418-4271-b217-30d47036704b",
   "metadata": {},
   "source": [
    "### Pro Tip\n",
    "data_log is structured so that you can easily export it into pandas for post-processing. "
   ]
  },
  {
   "cell_type": "code",
   "execution_count": 17,
   "id": "9a84992e-9ece-498b-a4ee-40fde1f3d56e",
   "metadata": {},
   "outputs": [],
   "source": [
    "import pandas as pd\n",
    "flows = pd.DataFrame(index=env.data_log['simulation_time'], data=env.data_log['flow'])\n",
    "flooding = pd.DataFrame(index=env.data_log['simulation_time'], data=env.data_log['flooding'])"
   ]
  },
  {
   "cell_type": "code",
   "execution_count": 18,
   "id": "b4705e44-d94f-438b-9654-08c68b7d3cd9",
   "metadata": {},
   "outputs": [
    {
     "data": {
      "text/html": [
       "<div>\n",
       "<style scoped>\n",
       "    .dataframe tbody tr th:only-of-type {\n",
       "        vertical-align: middle;\n",
       "    }\n",
       "\n",
       "    .dataframe tbody tr th {\n",
       "        vertical-align: top;\n",
       "    }\n",
       "\n",
       "    .dataframe thead th {\n",
       "        text-align: right;\n",
       "    }\n",
       "</style>\n",
       "<table border=\"1\" class=\"dataframe\">\n",
       "  <thead>\n",
       "    <tr style=\"text-align: right;\">\n",
       "      <th></th>\n",
       "      <th>P1</th>\n",
       "      <th>P2</th>\n",
       "    </tr>\n",
       "  </thead>\n",
       "  <tbody>\n",
       "    <tr>\n",
       "      <th>2018-02-25 00:00:01</th>\n",
       "      <td>0.0</td>\n",
       "      <td>0.0</td>\n",
       "    </tr>\n",
       "    <tr>\n",
       "      <th>2018-02-25 00:00:31</th>\n",
       "      <td>0.0</td>\n",
       "      <td>0.0</td>\n",
       "    </tr>\n",
       "    <tr>\n",
       "      <th>2018-02-25 00:01:01</th>\n",
       "      <td>0.0</td>\n",
       "      <td>0.0</td>\n",
       "    </tr>\n",
       "    <tr>\n",
       "      <th>2018-02-25 00:01:31</th>\n",
       "      <td>0.0</td>\n",
       "      <td>0.0</td>\n",
       "    </tr>\n",
       "    <tr>\n",
       "      <th>2018-02-25 00:02:01</th>\n",
       "      <td>0.0</td>\n",
       "      <td>0.0</td>\n",
       "    </tr>\n",
       "    <tr>\n",
       "      <th>...</th>\n",
       "      <td>...</td>\n",
       "      <td>...</td>\n",
       "    </tr>\n",
       "    <tr>\n",
       "      <th>2018-02-28 05:58:14</th>\n",
       "      <td>0.0</td>\n",
       "      <td>0.0</td>\n",
       "    </tr>\n",
       "    <tr>\n",
       "      <th>2018-02-28 05:58:44</th>\n",
       "      <td>0.0</td>\n",
       "      <td>0.0</td>\n",
       "    </tr>\n",
       "    <tr>\n",
       "      <th>2018-02-28 05:59:14</th>\n",
       "      <td>0.0</td>\n",
       "      <td>0.0</td>\n",
       "    </tr>\n",
       "    <tr>\n",
       "      <th>2018-02-28 05:59:44</th>\n",
       "      <td>0.0</td>\n",
       "      <td>0.0</td>\n",
       "    </tr>\n",
       "    <tr>\n",
       "      <th>2018-02-28 06:00:00</th>\n",
       "      <td>0.0</td>\n",
       "      <td>0.0</td>\n",
       "    </tr>\n",
       "  </tbody>\n",
       "</table>\n",
       "<p>12578 rows × 2 columns</p>\n",
       "</div>"
      ],
      "text/plain": [
       "                      P1   P2\n",
       "2018-02-25 00:00:01  0.0  0.0\n",
       "2018-02-25 00:00:31  0.0  0.0\n",
       "2018-02-25 00:01:01  0.0  0.0\n",
       "2018-02-25 00:01:31  0.0  0.0\n",
       "2018-02-25 00:02:01  0.0  0.0\n",
       "...                  ...  ...\n",
       "2018-02-28 05:58:14  0.0  0.0\n",
       "2018-02-28 05:58:44  0.0  0.0\n",
       "2018-02-28 05:59:14  0.0  0.0\n",
       "2018-02-28 05:59:44  0.0  0.0\n",
       "2018-02-28 06:00:00  0.0  0.0\n",
       "\n",
       "[12578 rows x 2 columns]"
      ]
     },
     "execution_count": 18,
     "metadata": {},
     "output_type": "execute_result"
    }
   ],
   "source": [
    "flooding"
   ]
  },
  {
   "cell_type": "markdown",
   "id": "abc13bd5-a3af-468e-bb73-e86a0127023b",
   "metadata": {},
   "source": [
    "### Exercise 1\n",
    "1. Implement a rule based controller for scenario theta that uses the state information. In this sceanario states are the depths in the basins P1 and P2 at every timestep."
   ]
  },
  {
   "cell_type": "code",
   "execution_count": null,
   "id": "bc1348e5-bdff-45d1-8cc5-153860676bfd",
   "metadata": {},
   "outputs": [],
   "source": [
    "env = pystorms.scenarios.theta()\n",
    "done = False\n",
    "\n",
    "while not done:\n",
    "    # query the current state of the simulation\n",
    "    state = env.state()\n",
    "    \n",
    "    # your control logic goes here\n",
    "    \n",
    "    \n",
    "    # set the actions and progress the simulation\n",
    "    done = env.step()"
   ]
  },
  {
   "cell_type": "markdown",
   "id": "3960fe10-3ce2-4574-b332-5e5316d31b3e",
   "metadata": {},
   "source": [
    "2. Plot the controlled and uncontrolled flows going into the outlet.\n",
    "\n",
    "Note: outlet flows are logged in `env.data_log`"
   ]
  },
  {
   "cell_type": "markdown",
   "id": "6a98d255-d6a2-4a4d-a3af-5f819cd63b01",
   "metadata": {},
   "source": [
    "### Exercise 2\n",
    "\n",
    "Implement a rule based to controller that achieves a performance of less that 1000. Peformance metric in scenario theta is computed based on the flooding and flows going into the outlet.\n",
    "Uncontrolled performance(i.e., when the valves are completly open) is 1630.34\n",
    "\n",
    "Tip 💡: Make sure your rule-based controller is not causing flooding in the basins as it tries to achive the desired performance."
   ]
  },
  {
   "cell_type": "markdown",
   "id": "9b694642-7cf8-4094-ab6b-a0eb0d8b34f3",
   "metadata": {},
   "source": [
    "### Bonus Question 💁\n",
    "\n",
    "Implement a controller that achieves a performance metric of less than 500."
   ]
  },
  {
   "cell_type": "code",
   "execution_count": null,
   "id": "6cd3b350-23bf-418e-920c-3af4f1aaf2c0",
   "metadata": {},
   "outputs": [],
   "source": []
  }
 ],
 "metadata": {
  "kernelspec": {
   "display_name": "pystorms-tutorial",
   "language": "python",
   "name": "pystorms-tutorial"
  },
  "language_info": {
   "codemirror_mode": {
    "name": "ipython",
    "version": 3
   },
   "file_extension": ".py",
   "mimetype": "text/x-python",
   "name": "python",
   "nbconvert_exporter": "python",
   "pygments_lexer": "ipython3",
   "version": "3.9.9"
  }
 },
 "nbformat": 4,
 "nbformat_minor": 5
}
