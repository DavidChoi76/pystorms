{
 "cells": [
  {
   "cell_type": "markdown",
   "id": "02ce5439-8daf-4fe6-80f3-0c8947354c5e",
   "metadata": {},
   "source": [
    "# ⛈️ ⛈️ Bayesian Optimization Based Control of Stormwater Systems ⛈️ ⛈️\n",
    "\n",
    "In this notebook, we introduce an automated approach for control of stormwater systems.\n",
    "Bayesian Optimization is a sample effecient approach for idenitifying the optima in problems that are hard or not easily solved using optimization frameworks.\n",
    "\n",
    "Baysian optimization is numerical approach, which explores the entire solution space to indentiify the solution that minimizes the objective function. Though this is similar to how genetic algoritms works, the thing that makes it different is how it searches through the solution space. \n",
    "\n",
    "For example consider the problem where we are trying to find the valve position where we are trying to manage flooding.\n",
    "\n",
    "Bayesian optimization initales tries random times and as more time happens it find the best solution for its problem.\n",
    "\n",
    "![bayesianOPT](https://scontent-sin6-1.xx.fbcdn.net/v/t39.8562-6/240822002_854859678751297_4744004142950977863_n.gif?_nc_cat=107&ccb=1-5&_nc_sid=6825c5&_nc_ohc=lOlHdF4ge3sAX-up-ln&_nc_ht=scontent-sin6-1.xx&oh=00_AT-4N_OJqQDts9Hc0jFBdiWkEwx9a5QttRntt6hCVNySRg&oe=61DCF78C)\n",
    "\n",
    "DO an example algorithm might be good to have. \n",
    "\n",
    "We would be using gamma as an example\n",
    "\n",
    "Talk about what goes into gamme"
   ]
  },
  {
   "cell_type": "code",
   "execution_count": 20,
   "id": "dfddb101-fde9-4411-8318-e283198ddca9",
   "metadata": {},
   "outputs": [],
   "source": [
    "import pystorms\n",
    "import numpy as np\n",
    "import pandas as pd\n",
    "from GPyOpt.methods import BayesianOptimization\n",
    "import matplotlib.pyplot as plt"
   ]
  },
  {
   "cell_type": "code",
   "execution_count": 2,
   "id": "c7bf7a32-1150-47a6-9bf6-318237d1f136",
   "metadata": {},
   "outputs": [],
   "source": [
    "# Gamma Scenario for the basins in series\n",
    "def GammaData(actions, CTRL_ASSETS=4):\n",
    "\n",
    "    # Initialize the scenario\n",
    "    env = pystorms.Scenarios.gamma()\n",
    "    done = False\n",
    "\n",
    "    # Modify the logger function to store depths\n",
    "    env.data_log[\"depthN\"] = {}\n",
    "    for i in np.linspace(1, CTRL_ASSETS, CTRL_ASSETS, dtype=int):\n",
    "        env.data_log[\"depthN\"][str(i)] = []\n",
    "\n",
    "    # Dont log the params from upstream, we donot care about them\n",
    "    for i in np.linspace(CTRL_ASSETS + 1, 11, 11 - CTRL_ASSETS, dtype=int):\n",
    "        del env.data_log[\"flow\"]['O' + str(i)]\n",
    "        del env.data_log[\"flooding\"][str(i)]\n",
    "\n",
    "    # Simulate controlled response\n",
    "    while not done:\n",
    "        done = env.step(actions)\n",
    "\n",
    "    # Return the logged params\n",
    "    return env.data_log"
   ]
  },
  {
   "cell_type": "code",
   "execution_count": 3,
   "id": "0ca4c811-c62c-4ea6-ac88-01745de445a1",
   "metadata": {},
   "outputs": [],
   "source": [
    "# Objective Function\n",
    "def f_loss(x):\n",
    "    # GypOpt uses 2d array\n",
    "    # pystorms requies 1d array\n",
    "    x = x.flatten()\n",
    "\n",
    "    # Simulate the response of control actions\n",
    "    data = GammaData(x)\n",
    "\n",
    "    # Convert to pandas dataframes\n",
    "    depths = pd.DataFrame.from_dict(data[\"depthN\"])\n",
    "    flows = pd.DataFrame.from_dict(data[\"flow\"])\n",
    "    flooding = pd.DataFrame.from_dict(data[\"flooding\"])\n",
    "\n",
    "    # Compute loss - check the performance metric equation in Readme\n",
    "    loss = 0.0\n",
    "\n",
    "    # Flooding loss\n",
    "    for node in flooding.keys():\n",
    "        if flooding[node].sum() > 0.0:\n",
    "            loss += 10 ** 4 * flooding[node].sum()\n",
    "\n",
    "    # Flow deviation\n",
    "    flows = flows.sub(4.0)\n",
    "    flows[flows < 0.0] = 0.0\n",
    "    loss += flows.sum().sum()\n",
    "\n",
    "    # Prevent basins from storing water at the end.\n",
    "    for i in depths.values[-1]:\n",
    "        if i > 0.1:\n",
    "            loss += i * 10 ** 3\n",
    "\n",
    "    return loss"
   ]
  },
  {
   "cell_type": "code",
   "execution_count": null,
   "id": "751f93de-a96e-4c17-aff0-3ec9fb4b449d",
   "metadata": {},
   "outputs": [],
   "source": [
    "# Read the parsed args\n",
    "random_seed = 42\n",
    "number_iter = 200\n",
    "\n",
    "# Set the random seed\n",
    "np.random.seed(random_seed)\n",
    "\n",
    "# Create the domain\n",
    "domain = []\n",
    "for i in range(1, 5):\n",
    "    domain.append({\"name\": \"var_\" + str(i), \"type\": \"continuous\", \"domain\": (0.0, 1.0)})\n",
    "\n",
    "\n",
    "myBopt = BayesianOptimization(\n",
    "    f=f_loss, domain=domain,\n",
    "    model_type=\"GP\",\n",
    "    acquisition_type=\"EI\",\n",
    ")\n",
    "\n",
    "myBopt.run_optimization(\n",
    "    report_file=save_path + \"_report.txt\",\n",
    "    max_iter=number_iter,\n",
    "    verbosity=True,\n",
    "    eps=0.005,\n",
    ")"
   ]
  },
  {
   "cell_type": "markdown",
   "id": "38fc0bcc-7502-416a-b3c4-471a531373d1",
   "metadata": {},
   "source": [
    "### Exercise 1\n",
    "Update the f_loss function to use peformance metric and identify the optimal gate position \n",
    "\n",
    "Hint: `env.performance()` gives the overall performance from a model run"
   ]
  },
  {
   "cell_type": "markdown",
   "id": "bc69d0da-746b-45d4-9f5a-0570fe9995f2",
   "metadata": {},
   "source": [
    "### Exercise 2\n",
    "Using the control straegy presented above, find the control actions that minimize the performane metric in scenario epsilon.\n",
    "\n",
    "![epsilon](epsilon.png)"
   ]
  }
 ],
 "metadata": {
  "kernelspec": {
   "display_name": "pystorms-tutorial",
   "language": "python",
   "name": "pystorms-tutorial"
  },
  "language_info": {
   "codemirror_mode": {
    "name": "ipython",
    "version": 3
   },
   "file_extension": ".py",
   "mimetype": "text/x-python",
   "name": "python",
   "nbconvert_exporter": "python",
   "pygments_lexer": "ipython3",
   "version": "3.9.9"
  }
 },
 "nbformat": 4,
 "nbformat_minor": 5
}
