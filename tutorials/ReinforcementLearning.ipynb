{
 "cells": [
  {
   "cell_type": "code",
   "execution_count": 12,
   "id": "7cfed399-fbc3-4c08-80a9-f20ab11a5e24",
   "metadata": {},
   "outputs": [
    {
     "name": "stderr",
     "output_type": "stream",
     "text": [
      "/Users/pluto/Archive/dev/pystorms/pystorms/utilities.py:169: SyntaxWarning: \"is not\" with a literal. Did you mean \"!=\"?\n",
      "  if attribute is not 'simulation_time':\n"
     ]
    }
   ],
   "source": [
    "import torch\n",
    "import random\n",
    "import pystorms\n",
    "import numpy as np\n",
    "import matplotlib.pyplot as plt\n",
    "from collections import namedtuple, deque"
   ]
  },
  {
   "cell_type": "code",
   "execution_count": 2,
   "id": "b32ab9de-9a68-4027-8e65-03dbca6c7c4c",
   "metadata": {},
   "outputs": [],
   "source": [
    "class ReplayMemory():\n",
    "    \"\"\"\n",
    "    Container for storing state transitions\n",
    "    \n",
    "    ...\n",
    "    \n",
    "    Attributes\n",
    "    ----------\n",
    "    name : str\n",
    "        name of the namedtuple\n",
    "    colums : tuple of str\n",
    "        name of the colums being stored\n",
    "    capcity : int\n",
    "        length of the replay memory\n",
    "        \n",
    "    Methods\n",
    "    -------\n",
    "    push(*args)\n",
    "        Add state transitions objects into the container\n",
    "    sample(batch_size=32)\n",
    "        Randomly select from the memory\n",
    "    \"\"\"\n",
    "    def __init__(self,\n",
    "                 name = 'Transition',\n",
    "                 columns = ('state', 'action', 'next_state', 'reward'),\n",
    "                 capacity = 2):\n",
    "        \n",
    "        self.memory = deque([], maxlen=capacity)\n",
    "        # namedtuple acts as the container for storing named objects\n",
    "        self.container = namedtuple(name, columns)\n",
    "        \n",
    "    def push(self, *args):\n",
    "        self.memory.append(self.container(*args))\n",
    "        \n",
    "    def sample(self, batch_size=32):\n",
    "        return random.sample(self.memory, batch_size)\n",
    "    \n",
    "    def __len__(self):\n",
    "        return len(self.memory)"
   ]
  },
  {
   "cell_type": "code",
   "execution_count": 11,
   "id": "d2a28c0f-8728-436a-9f66-77df826babae",
   "metadata": {},
   "outputs": [],
   "source": [
    "class AgentSmith(torch.nn.Module):\n",
    "    \"\"\"\n",
    "    Feed forward neural network\n",
    "    \n",
    "    \"\"\"\n",
    "    def __init__(self,\n",
    "                 layers=[((5, 5), 'ReLU'),\n",
    "                        ((5, 5), 'SeLU')]):\n",
    "        \n",
    "        # Dark magic to inherent things\n",
    "        super(AgentSmith, self).__init__()\n",
    "        \n",
    "        # Neural network is stacked as a list\n",
    "        self.network = []\n",
    "        for layer in layers:\n",
    "            input_dims = layer[0][0]\n",
    "            output_dims = layer[0][1]\n",
    "            activation_function = layer[1]\n",
    "            self.network.append(torch.nn.Linear(in_features=input_dims,\n",
    "                                                out_features=output_dims))\n",
    "            self.network.append(getattr(torch.nn, activation_function))\n",
    "    \n",
    "    def forward(x):\n",
    "        for layer in self.network:\n",
    "            x = layer(x)"
   ]
  },
  {
   "cell_type": "code",
   "execution_count": 16,
   "id": "e5732baf-8e72-46c3-bd99-511dd96e3282",
   "metadata": {},
   "outputs": [
    {
     "name": "stdout",
     "output_type": "stream",
     "text": [
      "\n",
      " o  Retrieving project data"
     ]
    }
   ],
   "source": [
    "# create a new environment\n",
    "env = pystorms.scenarios.theta()\n",
    "done = False\n",
    "# replay memory\n",
    "replay_memory = ReplayMemory(capacity=10000)"
   ]
  },
  {
   "cell_type": "code",
   "execution_count": 19,
   "id": "29862465-7427-406a-b9f5-9b46b7b24b0b",
   "metadata": {},
   "outputs": [
    {
     "name": "stdout",
     "output_type": "stream",
     "text": [
      "> \u001b[0;32m/var/folders/jd/5m0pjc1x1tl88mk0lny0tgy80000gn/T/ipykernel_2484/1833492756.py\u001b[0m(34)\u001b[0;36m<module>\u001b[0;34m()\u001b[0m\n",
      "\u001b[0;32m     30 \u001b[0;31m        \u001b[0;32mimport\u001b[0m \u001b[0mpdb\u001b[0m\u001b[0;34m;\u001b[0m \u001b[0mpdb\u001b[0m\u001b[0;34m.\u001b[0m\u001b[0mset_trace\u001b[0m\u001b[0;34m(\u001b[0m\u001b[0;34m)\u001b[0m\u001b[0;34m\u001b[0m\u001b[0;34m\u001b[0m\u001b[0m\n",
      "\u001b[0m\u001b[0;32m     31 \u001b[0;31m\u001b[0;34m\u001b[0m\u001b[0m\n",
      "\u001b[0m\u001b[0;32m     32 \u001b[0;31m\u001b[0;34m\u001b[0m\u001b[0m\n",
      "\u001b[0m\u001b[0;32m     33 \u001b[0;31m    \u001b[0;31m# set the new state to the old state\u001b[0m\u001b[0;34m\u001b[0m\u001b[0;34m\u001b[0m\u001b[0m\n",
      "\u001b[0m\u001b[0;32m---> 34 \u001b[0;31m    \u001b[0mstate\u001b[0m \u001b[0;34m=\u001b[0m \u001b[0mnext_state\u001b[0m\u001b[0;34m\u001b[0m\u001b[0;34m\u001b[0m\u001b[0m\n",
      "\u001b[0m\n"
     ]
    },
    {
     "name": "stdin",
     "output_type": "stream",
     "text": [
      "ipdb>  batch\n"
     ]
    },
    {
     "name": "stdout",
     "output_type": "stream",
     "text": [
      "Transition(state=(array([0., 0.]), array([0., 0.]), array([0., 0.]), array([0., 0.]), array([0., 0.]), array([0., 0.]), array([0., 0.]), array([0., 0.]), array([0., 0.]), array([0., 0.]), array([0., 0.]), array([0., 0.]), array([0., 0.]), array([0., 0.]), array([0., 0.]), array([0., 0.]), array([0., 0.]), array([0., 0.]), array([0., 0.]), array([0., 0.]), array([0., 0.]), array([0., 0.]), array([0., 0.]), array([0., 0.]), array([0., 0.]), array([0., 0.]), array([0., 0.]), array([0., 0.]), array([0., 0.]), array([0., 0.]), array([0., 0.]), array([0., 0.])), action=([1.0, 1.0], [1.0, 1.0], [1.0, 1.0], [1.0, 1.0], [1.0, 1.0], [1.0, 1.0], [1.0, 1.0], [1.0, 1.0], [1.0, 1.0], [1.0, 1.0], [1.0, 1.0], [1.0, 1.0], [1.0, 1.0], [1.0, 1.0], [1.0, 1.0], [1.0, 1.0], [1.0, 1.0], [1.0, 1.0], [1.0, 1.0], [1.0, 1.0], [1.0, 1.0], [1.0, 1.0], [1.0, 1.0], [1.0, 1.0], [1.0, 1.0], [1.0, 1.0], [1.0, 1.0], [1.0, 1.0], [1.0, 1.0], [1.0, 1.0], [1.0, 1.0], [1.0, 1.0]), next_state=(array([0., 0.]), array([0., 0.]), array([0., 0.]), array([0., 0.]), array([0., 0.]), array([0., 0.]), array([0., 0.]), array([0., 0.]), array([0., 0.]), array([0., 0.]), array([0., 0.]), array([0., 0.]), array([0., 0.]), array([0., 0.]), array([0., 0.]), array([0., 0.]), array([0., 0.]), array([0., 0.]), array([0., 0.]), array([0., 0.]), array([0., 0.]), array([0., 0.]), array([0., 0.]), array([0., 0.]), array([0., 0.]), array([0., 0.]), array([0., 0.]), array([0., 0.]), array([0., 0.]), array([0., 0.]), array([0., 0.]), array([0., 0.])), reward=(0.0, 0.0, 0.0, 0.0, 0.0, 0.0, 0.0, 0.0, 0.0, 0.0, 0.0, 0.0, 0.0, 0.0, 0.0, 0.0, 0.0, 0.0, 0.0, 0.0, 0.0, 0.0, 0.0, 0.0, 0.0, 0.0, 0.0, 0.0, 0.0, 0.0, 0.0, 0.0))\n"
     ]
    },
    {
     "name": "stdin",
     "output_type": "stream",
     "text": [
      "ipdb>  len(batch)\n"
     ]
    },
    {
     "name": "stdout",
     "output_type": "stream",
     "text": [
      "4\n"
     ]
    },
    {
     "name": "stdin",
     "output_type": "stream",
     "text": [
      "ipdb>  transitions\n"
     ]
    },
    {
     "name": "stdout",
     "output_type": "stream",
     "text": [
      "[Transition(state=array([0., 0.]), action=[1.0, 1.0], next_state=array([0., 0.]), reward=0.0), Transition(state=array([0., 0.]), action=[1.0, 1.0], next_state=array([0., 0.]), reward=0.0), Transition(state=array([0., 0.]), action=[1.0, 1.0], next_state=array([0., 0.]), reward=0.0), Transition(state=array([0., 0.]), action=[1.0, 1.0], next_state=array([0., 0.]), reward=0.0), Transition(state=array([0., 0.]), action=[1.0, 1.0], next_state=array([0., 0.]), reward=0.0), Transition(state=array([0., 0.]), action=[1.0, 1.0], next_state=array([0., 0.]), reward=0.0), Transition(state=array([0., 0.]), action=[1.0, 1.0], next_state=array([0., 0.]), reward=0.0), Transition(state=array([0., 0.]), action=[1.0, 1.0], next_state=array([0., 0.]), reward=0.0), Transition(state=array([0., 0.]), action=[1.0, 1.0], next_state=array([0., 0.]), reward=0.0), Transition(state=array([0., 0.]), action=[1.0, 1.0], next_state=array([0., 0.]), reward=0.0), Transition(state=array([0., 0.]), action=[1.0, 1.0], next_state=array([0., 0.]), reward=0.0), Transition(state=array([0., 0.]), action=[1.0, 1.0], next_state=array([0., 0.]), reward=0.0), Transition(state=array([0., 0.]), action=[1.0, 1.0], next_state=array([0., 0.]), reward=0.0), Transition(state=array([0., 0.]), action=[1.0, 1.0], next_state=array([0., 0.]), reward=0.0), Transition(state=array([0., 0.]), action=[1.0, 1.0], next_state=array([0., 0.]), reward=0.0), Transition(state=array([0., 0.]), action=[1.0, 1.0], next_state=array([0., 0.]), reward=0.0), Transition(state=array([0., 0.]), action=[1.0, 1.0], next_state=array([0., 0.]), reward=0.0), Transition(state=array([0., 0.]), action=[1.0, 1.0], next_state=array([0., 0.]), reward=0.0), Transition(state=array([0., 0.]), action=[1.0, 1.0], next_state=array([0., 0.]), reward=0.0), Transition(state=array([0., 0.]), action=[1.0, 1.0], next_state=array([0., 0.]), reward=0.0), Transition(state=array([0., 0.]), action=[1.0, 1.0], next_state=array([0., 0.]), reward=0.0), Transition(state=array([0., 0.]), action=[1.0, 1.0], next_state=array([0., 0.]), reward=0.0), Transition(state=array([0., 0.]), action=[1.0, 1.0], next_state=array([0., 0.]), reward=0.0), Transition(state=array([0., 0.]), action=[1.0, 1.0], next_state=array([0., 0.]), reward=0.0), Transition(state=array([0., 0.]), action=[1.0, 1.0], next_state=array([0., 0.]), reward=0.0), Transition(state=array([0., 0.]), action=[1.0, 1.0], next_state=array([0., 0.]), reward=0.0), Transition(state=array([0., 0.]), action=[1.0, 1.0], next_state=array([0., 0.]), reward=0.0), Transition(state=array([0., 0.]), action=[1.0, 1.0], next_state=array([0., 0.]), reward=0.0), Transition(state=array([0., 0.]), action=[1.0, 1.0], next_state=array([0., 0.]), reward=0.0), Transition(state=array([0., 0.]), action=[1.0, 1.0], next_state=array([0., 0.]), reward=0.0), Transition(state=array([0., 0.]), action=[1.0, 1.0], next_state=array([0., 0.]), reward=0.0), Transition(state=array([0., 0.]), action=[1.0, 1.0], next_state=array([0., 0.]), reward=0.0)]\n"
     ]
    },
    {
     "name": "stdin",
     "output_type": "stream",
     "text": [
      "ipdb>  state_batch = torch.cat(batch.state)\n"
     ]
    },
    {
     "name": "stdout",
     "output_type": "stream",
     "text": [
      "*** TypeError: expected Tensor as element 0 in argument 0, but got numpy.ndarray\n"
     ]
    },
    {
     "name": "stdin",
     "output_type": "stream",
     "text": [
      "ipdb>  batch\n"
     ]
    },
    {
     "name": "stdout",
     "output_type": "stream",
     "text": [
      "Transition(state=(array([0., 0.]), array([0., 0.]), array([0., 0.]), array([0., 0.]), array([0., 0.]), array([0., 0.]), array([0., 0.]), array([0., 0.]), array([0., 0.]), array([0., 0.]), array([0., 0.]), array([0., 0.]), array([0., 0.]), array([0., 0.]), array([0., 0.]), array([0., 0.]), array([0., 0.]), array([0., 0.]), array([0., 0.]), array([0., 0.]), array([0., 0.]), array([0., 0.]), array([0., 0.]), array([0., 0.]), array([0., 0.]), array([0., 0.]), array([0., 0.]), array([0., 0.]), array([0., 0.]), array([0., 0.]), array([0., 0.]), array([0., 0.])), action=([1.0, 1.0], [1.0, 1.0], [1.0, 1.0], [1.0, 1.0], [1.0, 1.0], [1.0, 1.0], [1.0, 1.0], [1.0, 1.0], [1.0, 1.0], [1.0, 1.0], [1.0, 1.0], [1.0, 1.0], [1.0, 1.0], [1.0, 1.0], [1.0, 1.0], [1.0, 1.0], [1.0, 1.0], [1.0, 1.0], [1.0, 1.0], [1.0, 1.0], [1.0, 1.0], [1.0, 1.0], [1.0, 1.0], [1.0, 1.0], [1.0, 1.0], [1.0, 1.0], [1.0, 1.0], [1.0, 1.0], [1.0, 1.0], [1.0, 1.0], [1.0, 1.0], [1.0, 1.0]), next_state=(array([0., 0.]), array([0., 0.]), array([0., 0.]), array([0., 0.]), array([0., 0.]), array([0., 0.]), array([0., 0.]), array([0., 0.]), array([0., 0.]), array([0., 0.]), array([0., 0.]), array([0., 0.]), array([0., 0.]), array([0., 0.]), array([0., 0.]), array([0., 0.]), array([0., 0.]), array([0., 0.]), array([0., 0.]), array([0., 0.]), array([0., 0.]), array([0., 0.]), array([0., 0.]), array([0., 0.]), array([0., 0.]), array([0., 0.]), array([0., 0.]), array([0., 0.]), array([0., 0.]), array([0., 0.]), array([0., 0.]), array([0., 0.])), reward=(0.0, 0.0, 0.0, 0.0, 0.0, 0.0, 0.0, 0.0, 0.0, 0.0, 0.0, 0.0, 0.0, 0.0, 0.0, 0.0, 0.0, 0.0, 0.0, 0.0, 0.0, 0.0, 0.0, 0.0, 0.0, 0.0, 0.0, 0.0, 0.0, 0.0, 0.0, 0.0))\n"
     ]
    },
    {
     "name": "stdin",
     "output_type": "stream",
     "text": [
      "ipdb>  batch.state\n"
     ]
    },
    {
     "name": "stdout",
     "output_type": "stream",
     "text": [
      "(array([0., 0.]), array([0., 0.]), array([0., 0.]), array([0., 0.]), array([0., 0.]), array([0., 0.]), array([0., 0.]), array([0., 0.]), array([0., 0.]), array([0., 0.]), array([0., 0.]), array([0., 0.]), array([0., 0.]), array([0., 0.]), array([0., 0.]), array([0., 0.]), array([0., 0.]), array([0., 0.]), array([0., 0.]), array([0., 0.]), array([0., 0.]), array([0., 0.]), array([0., 0.]), array([0., 0.]), array([0., 0.]), array([0., 0.]), array([0., 0.]), array([0., 0.]), array([0., 0.]), array([0., 0.]), array([0., 0.]), array([0., 0.]))\n"
     ]
    },
    {
     "name": "stdin",
     "output_type": "stream",
     "text": [
      "ipdb>  reward_batch = torch.cat(batch.reward)\n"
     ]
    },
    {
     "name": "stdout",
     "output_type": "stream",
     "text": [
      "*** TypeError: expected Tensor as element 0 in argument 0, but got float\n"
     ]
    },
    {
     "name": "stdin",
     "output_type": "stream",
     "text": [
      "ipdb>  exit()\n"
     ]
    },
    {
     "ename": "BdbQuit",
     "evalue": "",
     "output_type": "error",
     "traceback": [
      "\u001b[0;31m---------------------------------------------------------------------------\u001b[0m",
      "\u001b[0;31mBdbQuit\u001b[0m                                   Traceback (most recent call last)",
      "\u001b[0;32m/var/folders/jd/5m0pjc1x1tl88mk0lny0tgy80000gn/T/ipykernel_2484/1833492756.py\u001b[0m in \u001b[0;36m<module>\u001b[0;34m\u001b[0m\n\u001b[1;32m     32\u001b[0m \u001b[0;34m\u001b[0m\u001b[0m\n\u001b[1;32m     33\u001b[0m     \u001b[0;31m# set the new state to the old state\u001b[0m\u001b[0;34m\u001b[0m\u001b[0;34m\u001b[0m\u001b[0m\n\u001b[0;32m---> 34\u001b[0;31m     \u001b[0mstate\u001b[0m \u001b[0;34m=\u001b[0m \u001b[0mnext_state\u001b[0m\u001b[0;34m\u001b[0m\u001b[0;34m\u001b[0m\u001b[0m\n\u001b[0m",
      "\u001b[0;32m/var/folders/jd/5m0pjc1x1tl88mk0lny0tgy80000gn/T/ipykernel_2484/1833492756.py\u001b[0m in \u001b[0;36m<module>\u001b[0;34m\u001b[0m\n\u001b[1;32m     32\u001b[0m \u001b[0;34m\u001b[0m\u001b[0m\n\u001b[1;32m     33\u001b[0m     \u001b[0;31m# set the new state to the old state\u001b[0m\u001b[0;34m\u001b[0m\u001b[0;34m\u001b[0m\u001b[0m\n\u001b[0;32m---> 34\u001b[0;31m     \u001b[0mstate\u001b[0m \u001b[0;34m=\u001b[0m \u001b[0mnext_state\u001b[0m\u001b[0;34m\u001b[0m\u001b[0;34m\u001b[0m\u001b[0m\n\u001b[0m",
      "\u001b[0;32m/opt/homebrew/Cellar/python@3.9/3.9.9/Frameworks/Python.framework/Versions/3.9/lib/python3.9/bdb.py\u001b[0m in \u001b[0;36mtrace_dispatch\u001b[0;34m(self, frame, event, arg)\u001b[0m\n\u001b[1;32m     86\u001b[0m             \u001b[0;32mreturn\u001b[0m \u001b[0;31m# None\u001b[0m\u001b[0;34m\u001b[0m\u001b[0;34m\u001b[0m\u001b[0m\n\u001b[1;32m     87\u001b[0m         \u001b[0;32mif\u001b[0m \u001b[0mevent\u001b[0m \u001b[0;34m==\u001b[0m \u001b[0;34m'line'\u001b[0m\u001b[0;34m:\u001b[0m\u001b[0;34m\u001b[0m\u001b[0;34m\u001b[0m\u001b[0m\n\u001b[0;32m---> 88\u001b[0;31m             \u001b[0;32mreturn\u001b[0m \u001b[0mself\u001b[0m\u001b[0;34m.\u001b[0m\u001b[0mdispatch_line\u001b[0m\u001b[0;34m(\u001b[0m\u001b[0mframe\u001b[0m\u001b[0;34m)\u001b[0m\u001b[0;34m\u001b[0m\u001b[0;34m\u001b[0m\u001b[0m\n\u001b[0m\u001b[1;32m     89\u001b[0m         \u001b[0;32mif\u001b[0m \u001b[0mevent\u001b[0m \u001b[0;34m==\u001b[0m \u001b[0;34m'call'\u001b[0m\u001b[0;34m:\u001b[0m\u001b[0;34m\u001b[0m\u001b[0;34m\u001b[0m\u001b[0m\n\u001b[1;32m     90\u001b[0m             \u001b[0;32mreturn\u001b[0m \u001b[0mself\u001b[0m\u001b[0;34m.\u001b[0m\u001b[0mdispatch_call\u001b[0m\u001b[0;34m(\u001b[0m\u001b[0mframe\u001b[0m\u001b[0;34m,\u001b[0m \u001b[0marg\u001b[0m\u001b[0;34m)\u001b[0m\u001b[0;34m\u001b[0m\u001b[0;34m\u001b[0m\u001b[0m\n",
      "\u001b[0;32m/opt/homebrew/Cellar/python@3.9/3.9.9/Frameworks/Python.framework/Versions/3.9/lib/python3.9/bdb.py\u001b[0m in \u001b[0;36mdispatch_line\u001b[0;34m(self, frame)\u001b[0m\n\u001b[1;32m    111\u001b[0m         \u001b[0;32mif\u001b[0m \u001b[0mself\u001b[0m\u001b[0;34m.\u001b[0m\u001b[0mstop_here\u001b[0m\u001b[0;34m(\u001b[0m\u001b[0mframe\u001b[0m\u001b[0;34m)\u001b[0m \u001b[0;32mor\u001b[0m \u001b[0mself\u001b[0m\u001b[0;34m.\u001b[0m\u001b[0mbreak_here\u001b[0m\u001b[0;34m(\u001b[0m\u001b[0mframe\u001b[0m\u001b[0;34m)\u001b[0m\u001b[0;34m:\u001b[0m\u001b[0;34m\u001b[0m\u001b[0;34m\u001b[0m\u001b[0m\n\u001b[1;32m    112\u001b[0m             \u001b[0mself\u001b[0m\u001b[0;34m.\u001b[0m\u001b[0muser_line\u001b[0m\u001b[0;34m(\u001b[0m\u001b[0mframe\u001b[0m\u001b[0;34m)\u001b[0m\u001b[0;34m\u001b[0m\u001b[0;34m\u001b[0m\u001b[0m\n\u001b[0;32m--> 113\u001b[0;31m             \u001b[0;32mif\u001b[0m \u001b[0mself\u001b[0m\u001b[0;34m.\u001b[0m\u001b[0mquitting\u001b[0m\u001b[0;34m:\u001b[0m \u001b[0;32mraise\u001b[0m \u001b[0mBdbQuit\u001b[0m\u001b[0;34m\u001b[0m\u001b[0;34m\u001b[0m\u001b[0m\n\u001b[0m\u001b[1;32m    114\u001b[0m         \u001b[0;32mreturn\u001b[0m \u001b[0mself\u001b[0m\u001b[0;34m.\u001b[0m\u001b[0mtrace_dispatch\u001b[0m\u001b[0;34m\u001b[0m\u001b[0;34m\u001b[0m\u001b[0m\n\u001b[1;32m    115\u001b[0m \u001b[0;34m\u001b[0m\u001b[0m\n",
      "\u001b[0;31mBdbQuit\u001b[0m: "
     ]
    }
   ],
   "source": [
    "# get the inital state\n",
    "state = env.state()\n",
    "train = False\n",
    "while not done:\n",
    "    # get the action based on the current state\n",
    "    action = [1.0, 1.0]#controller(state)\n",
    "    \n",
    "    # implement the action\n",
    "    done = env.step(action)\n",
    "    \n",
    "    # get the reward based on your previous action\n",
    "    reward = env.performance()\n",
    "    \n",
    "    # get the next state if simulation has not been terminated\n",
    "    if not done:\n",
    "        next_state = env.state()\n",
    "    else:\n",
    "        next_state = None\n",
    "        \n",
    "    # store the state transitions in the memory\n",
    "    replay_memory.push(state, action, next_state, reward)\n",
    "    \n",
    "    if replay_memory.__len__() > 32:\n",
    "        train = True\n",
    "\n",
    "    if train:\n",
    "        # sample from the batch\n",
    "        transitions = replay_memory.sample(batch_size=32)\n",
    "        batch = replay_memory.container(*zip(*transitions))\n",
    "        \n",
    "        non_final_mask = torch.tensor(tuple(map(lambda s: s is not None, batch.next_state)), dtype=torch.bool)\n",
    "        import pdb; pdb.set_trace()\n",
    "        \n",
    "        \n",
    "    # set the new state to the old state\n",
    "    state = next_state"
   ]
  },
  {
   "cell_type": "code",
   "execution_count": 22,
   "id": "3294dc0c-3fd3-4278-a61f-0549e25482b1",
   "metadata": {},
   "outputs": [
    {
     "ename": "TypeError",
     "evalue": "expected Tensor as element 0 in argument 0, but got numpy.ndarray",
     "output_type": "error",
     "traceback": [
      "\u001b[0;31m---------------------------------------------------------------------------\u001b[0m",
      "\u001b[0;31mTypeError\u001b[0m                                 Traceback (most recent call last)",
      "\u001b[0;32m/var/folders/jd/5m0pjc1x1tl88mk0lny0tgy80000gn/T/ipykernel_2484/1024343405.py\u001b[0m in \u001b[0;36m<module>\u001b[0;34m\u001b[0m\n\u001b[0;32m----> 1\u001b[0;31m \u001b[0mtorch\u001b[0m\u001b[0;34m.\u001b[0m\u001b[0mcat\u001b[0m\u001b[0;34m(\u001b[0m\u001b[0mbatch\u001b[0m\u001b[0;34m.\u001b[0m\u001b[0mstate\u001b[0m\u001b[0;34m)\u001b[0m\u001b[0;34m\u001b[0m\u001b[0;34m\u001b[0m\u001b[0m\n\u001b[0m",
      "\u001b[0;31mTypeError\u001b[0m: expected Tensor as element 0 in argument 0, but got numpy.ndarray"
     ]
    }
   ],
   "source": [
    "torch.cat(batch.state)"
   ]
  },
  {
   "cell_type": "code",
   "execution_count": 30,
   "id": "33395137-76df-4fca-a97e-8bdcaec7bab9",
   "metadata": {},
   "outputs": [
    {
     "data": {
      "text/plain": [
       "torch.Size([32, 2])"
      ]
     },
     "execution_count": 30,
     "metadata": {},
     "output_type": "execute_result"
    }
   ],
   "source": [
    "torch.tensor(np.asarray(batch.state)).shape"
   ]
  },
  {
   "cell_type": "code",
   "execution_count": null,
   "id": "3d63e4cb-b313-4d98-ae76-f6bb0ae8e5cc",
   "metadata": {},
   "outputs": [],
   "source": []
  }
 ],
 "metadata": {
  "kernelspec": {
   "display_name": "pystorms",
   "language": "python",
   "name": "pystorms"
  },
  "language_info": {
   "codemirror_mode": {
    "name": "ipython",
    "version": 3
   },
   "file_extension": ".py",
   "mimetype": "text/x-python",
   "name": "python",
   "nbconvert_exporter": "python",
   "pygments_lexer": "ipython3",
   "version": "3.9.9"
  }
 },
 "nbformat": 4,
 "nbformat_minor": 5
}
