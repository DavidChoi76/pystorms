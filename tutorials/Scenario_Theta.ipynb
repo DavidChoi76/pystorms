{
 "cells": [
  {
   "cell_type": "markdown",
   "metadata": {
    "toc": true
   },
   "source": [
    "# Scenario Theta\n",
    "\n",
    "Scenario Theta is a synthetic stormwater system included in pystorms for prototyping control algorithms. This scenario is used in the pystorms paper to demonstrate the use of pystorms to evaluate the performance of control algorithms.\n",
    "\n",
    "This notebook demonstrates the use of the equal-filling control algorithm for controlling outflows in the network. Please refer to the manuscript for more details of the approach. "
   ]
  },
  {
   "cell_type": "code",
   "execution_count": 7,
   "metadata": {},
   "outputs": [],
   "source": [
    "import pystorms\n",
    "import numpy as np\n",
    "import pandas as pd"
   ]
  },
  {
   "cell_type": "markdown",
   "metadata": {},
   "source": [
    "### Generate Uncontrolled Baseline"
   ]
  },
  {
   "cell_type": "code",
   "execution_count": 13,
   "metadata": {},
   "outputs": [],
   "source": [
    "# Run simulation with gates open\n",
    "env_uncontrolled = pystorms.scenarios.theta()\n",
    "done = False\n",
    "while not done:\n",
    "    done = env_uncontrolled.step()"
   ]
  },
  {
   "cell_type": "code",
   "execution_count": null,
   "metadata": {},
   "outputs": [],
   "source": [
    "# Uncontrolled response\n",
    "uncontrolled_flows = pd.DataFrame.from_dict(env_uncontrolled.data_log['flows'])"
   ]
  },
  {
   "cell_type": "code",
   "execution_count": null,
   "metadata": {},
   "outputs": [],
   "source": []
  },
  {
   "cell_type": "code",
   "execution_count": 8,
   "metadata": {},
   "outputs": [],
   "source": [
    "def controller(state, target=0.50, MAX=2.0):\n",
    "    fd = state / MAX\n",
    "    avg_fd = np.mean(fd)\n",
    "    potential = fd - avg_fd  # [<0, 0, <1]\n",
    "\n",
    "    for i in range(0, 2):\n",
    "        if potential[i] < -0.001:\n",
    "            potential[i] = 0.0\n",
    "        elif potential[i] < 0.001 and potential[i] > -0.001:\n",
    "            potential[i] = avg_fd\n",
    "\n",
    "    if sum(potential) > 0.0:\n",
    "        potential = potential / sum(potential)\n",
    "\n",
    "    actions = np.zeros(2)\n",
    "    if state[0] > 0.00:\n",
    "        flow0 = target * potential[0]\n",
    "        actions[0] = min(1.0, flow0 / (1.00 * np.sqrt(2.0 * 9.81 * state[0])))\n",
    "    if state[1] > 0.00:\n",
    "        flow1 = target * potential[1]\n",
    "        actions[1] = min(1.0, flow1 / (1.00 * np.sqrt(2.0 * 9.81 * state[1])))\n",
    "    return actions"
   ]
  },
  {
   "cell_type": "code",
   "execution_count": 9,
   "metadata": {},
   "outputs": [],
   "source": [
    "\n",
    "\n",
    "    \n",
    "env = pystorms.scenarios.theta()\n",
    "done = False\n",
    "while not done:\n",
    "    state = env.state()\n",
    "    actions = controller(state)\n",
    "    done = env.step(actions)"
   ]
  },
  {
   "cell_type": "code",
   "execution_count": 10,
   "metadata": {},
   "outputs": [],
   "source": [
    "flows = pd.DataFrame.from_dict(env.data_log['flow'])"
   ]
  },
  {
   "cell_type": "code",
   "execution_count": 11,
   "metadata": {},
   "outputs": [
    {
     "data": {
      "text/plain": [
       "<AxesSubplot:>"
      ]
     },
     "execution_count": 11,
     "metadata": {},
     "output_type": "execute_result"
    },
    {
     "data": {
      "image/png": "[encoded data removed]",
      "text/plain": [
       "<Figure size 432x288 with 1 Axes>"
      ]
     },
     "metadata": {
      "needs_background": "light"
     },
     "output_type": "display_data"
    }
   ],
   "source": [
    "flows.plot()"
   ]
  },
  {
   "cell_type": "code",
   "execution_count": null,
   "metadata": {},
   "outputs": [],
   "source": []
  }
 ],
 "metadata": {
  "hide_input": false,
  "kernelspec": {
   "display_name": "Python 3",
   "language": "python",
   "name": "python3"
  },
  "language_info": {
   "codemirror_mode": {
    "name": "ipython",
    "version": 3
   },
   "file_extension": ".py",
   "mimetype": "text/x-python",
   "name": "python",
   "nbconvert_exporter": "python",
   "pygments_lexer": "ipython3",
   "version": "3.9.1"
  },
  "toc": {
   "base_numbering": 1,
   "nav_menu": {},
   "number_sections": false,
   "sideBar": false,
   "skip_h1_title": true,
   "title_cell": "Table of Contents",
   "title_sidebar": "Contents",
   "toc_cell": true,
   "toc_position": {},
   "toc_section_display": true,
   "toc_window_display": false
  },
  "varInspector": {
   "cols": {
    "lenName": 16,
    "lenType": 16,
    "lenVar": 40
   },
   "kernels_config": {
    "python": {
     "delete_cmd_postfix": "",
     "delete_cmd_prefix": "del ",
     "library": "var_list.py",
     "varRefreshCmd": "print(var_dic_list())"
    },
    "r": {
     "delete_cmd_postfix": ") ",
     "delete_cmd_prefix": "rm(",
     "library": "var_list.r",
     "varRefreshCmd": "cat(var_dic_list()) "
    }
   },
   "types_to_exclude": [
    "module",
    "function",
    "builtin_function_or_method",
    "instance",
    "_Feature"
   ],
   "window_display": false
  }
 },
 "nbformat": 4,
 "nbformat_minor": 4
}
