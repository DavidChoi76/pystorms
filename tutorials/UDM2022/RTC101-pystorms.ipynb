{
 "cells": [
  {
   "cell_type": "markdown",
   "id": "8dfb941b-7a51-42fe-ba54-0ecadda2523b",
   "metadata": {},
   "source": [
    "# ⛈️ ⛈️ Control of stormwater systems using pystorms ⛈️ ⛈️\n",
    "\n",
    "pystorms is a curated collection of stormwater networks developed for prototyping and evaluating stormwater control algorithms. It uses pyswmm as its backend for interacting with the EPA-SWMM's simulation engine."
   ]
  },
  {
   "cell_type": "code",
   "execution_count": 1,
   "id": "776b4589-8fd3-4bc3-ae27-a4ab7299dbd9",
   "metadata": {},
   "outputs": [],
   "source": [
    "import pystorms\n",
    "import matplotlib.pyplot as plt"
   ]
  },
  {
   "cell_type": "code",
   "execution_count": 2,
   "id": "7f47c770-0bc1-4e30-8c7a-d3332175994c",
   "metadata": {},
   "outputs": [],
   "source": [
    "# RC parms for pertty plots\n",
    "plt.rcParams.update({'font.size': 14})\n",
    "plt.style.use('seaborn-whitegrid')\n",
    "plt.style.use('seaborn-dark-palette')"
   ]
  },
  {
   "cell_type": "markdown",
   "id": "7561d574-22c5-4310-80f8-eed80ef36b74",
   "metadata": {},
   "source": [
    "In this example, we would be using scenario theta\n",
    "\n",
    "![theta](./theta_sheet.png)"
   ]
  },
  {
   "cell_type": "markdown",
   "id": "7a2d997a-8157-4a0e-9dd1-3193608c5806",
   "metadata": {},
   "source": [
    "### Simulating control using pystorms"
   ]
  },
  {
   "cell_type": "code",
   "execution_count": 3,
   "id": "cff3217f-d853-44e9-a800-1073bc8f6592",
   "metadata": {},
   "outputs": [
    {
     "name": "stdout",
     "output_type": "stream",
     "text": [
      "\n",
      " o  Retrieving project data"
     ]
    }
   ],
   "source": [
    "env = pystorms.scenarios.theta()\n",
    "done = False"
   ]
  },
  {
   "cell_type": "markdown",
   "id": "1bb808b8-7273-4626-94eb-7863bc4688b6",
   "metadata": {},
   "source": [
    "pystorms abstacts the control of stormwater networks as scenarios. Each scenario comprises of a stormwater network, an event driver, a set of states and controllable assets, and a performance metric.\n",
    "\n",
    "```python\n",
    "env = pystorms.scenarios.theta()\n",
    "```\n",
    "\n",
    "The above command initalizes the stormwater control scenario and starts the simulation."
   ]
  },
  {
   "cell_type": "code",
   "execution_count": 5,
   "id": "e942ccd9-5503-4366-84e3-69e17de5fdcc",
   "metadata": {},
   "outputs": [],
   "source": [
    "while not done:\n",
    "    # query the current state of the simulation\n",
    "    state = env.state()\n",
    "    \n",
    "    # Initialize actions\n",
    "    actions = [0.0, 0.0]\n",
    "    # Simple rule-based controller\n",
    "    if state[0] > 0.25:\n",
    "        actions[0] = 1.0\n",
    "    \n",
    "    if state[1] > 0.25:\n",
    "        actions[1] = 1.0\n",
    "    \n",
    "    # set the actions and progress the simulation\n",
    "    done = env.step(actions)"
   ]
  },
  {
   "cell_type": "code",
   "execution_count": 8,
   "id": "52db7bb3-83e0-4060-8f8b-20fdf2b68ad2",
   "metadata": {},
   "outputs": [
    {
     "data": {
      "text/plain": [
       "1287.9645028930477"
      ]
     },
     "execution_count": 8,
     "metadata": {},
     "output_type": "execute_result"
    }
   ],
   "source": [
    "env.performance()"
   ]
  },
  {
   "cell_type": "markdown",
   "id": "387ec325-06fe-4bf0-901d-8e0c81336286",
   "metadata": {},
   "source": [
    "pystorms also computes the performance metric as it runs through the simulation."
   ]
  },
  {
   "cell_type": "code",
   "execution_count": null,
   "id": "5db34d9b-2c91-4488-870f-30d9aa2be4a4",
   "metadata": {},
   "outputs": [],
   "source": []
  }
 ],
 "metadata": {
  "kernelspec": {
   "display_name": "pystorms-tutorial",
   "language": "python",
   "name": "pystorms-tutorial"
  },
  "language_info": {
   "codemirror_mode": {
    "name": "ipython",
    "version": 3
   },
   "file_extension": ".py",
   "mimetype": "text/x-python",
   "name": "python",
   "nbconvert_exporter": "python",
   "pygments_lexer": "ipython3",
   "version": "3.9.9"
  }
 },
 "nbformat": 4,
 "nbformat_minor": 5
}
