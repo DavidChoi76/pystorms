{
 "cells": [
  {
   "cell_type": "markdown",
   "metadata": {
    "toc": true
   },
   "source": [
    "<h1>Table of Contents<span class=\"tocSkip\"></span></h1>\n",
    "<div class=\"toc\"><ul class=\"toc-item\"><li><span><a href=\"#Uncontrolled-Case\" data-toc-modified-id=\"Uncontrolled-Case-1\">Uncontrolled Case</a></span></li><li><span><a href=\"#MPC-Case\" data-toc-modified-id=\"MPC-Case-2\">MPC Case</a></span></li></ul></div>"
   ]
  },
  {
   "cell_type": "markdown",
   "metadata": {},
   "source": [
    "# Set up the environment"
   ]
  },
  {
   "cell_type": "code",
   "execution_count": 1,
   "metadata": {
    "ExecuteTime": {
     "end_time": "2021-07-20T20:56:15.267204Z",
     "start_time": "2021-07-20T20:56:14.518045Z"
    }
   },
   "outputs": [],
   "source": [
    "# Import pystorms \n",
    "import pystorms \n",
    "# Import other Python libraries\n",
    "import numpy as np\n",
    "import pandas as pd\n",
    "from datetime import timedelta"
   ]
  },
  {
   "cell_type": "markdown",
   "metadata": {},
   "source": [
    "# Overview of Scenario Beta"
   ]
  },
  {
   "cell_type": "markdown",
   "metadata": {
    "ExecuteTime": {
     "end_time": "2021-07-20T20:57:17.662535Z",
     "start_time": "2021-07-20T20:57:17.658402Z"
    }
   },
   "source": [
    "The `config.yaml` file lists the specifics for `Scenario Beta`. Is is developed based on a Model-Predictive Control method developed and published by [Sadler et al. (2020)](https://doi.org/10.1016/j.jhydrol.2020.124571), and subsequently made available with the [HydroShare collaborative environment](https://doi.org/10.4211/hs.5148675c6a5841e686a3b6aec67a38ee)."
   ]
  },
  {
   "cell_type": "markdown",
   "metadata": {},
   "source": [
    "## Uncontrolled Case"
   ]
  },
  {
   "cell_type": "markdown",
   "metadata": {},
   "source": [
    "We run `Scenario Beta` without any control. In this Scenario, we have three control assets: an orifice (`R2`), a pump (`P0`), and a weir (`W0`). For the uncontrolled case, the settings for these three assets are set as follows:"
   ]
  },
  {
   "cell_type": "markdown",
   "metadata": {},
   "source": [
    "|Control asset |SWMM implementation | Uncontrolled setting | \n",
    "|--------------|--------------------|----------------------|\n",
    "|Orifice 3     |`R2`                | 1.0                  |\n",
    "|Pump 1        |`P0`                | 0.0                  |\n",
    "|Weir 1        |`W0`                | 1.0                  |"
   ]
  },
  {
   "cell_type": "code",
   "execution_count": 2,
   "metadata": {
    "ExecuteTime": {
     "end_time": "2021-07-20T21:05:18.890869Z",
     "start_time": "2021-07-20T21:04:55.647083Z"
    }
   },
   "outputs": [
    {
     "name": "stdout",
     "output_type": "stream",
     "text": [
      "\n",
      " o  Retrieving project data"
     ]
    }
   ],
   "source": [
    "# run the base uncontrolled instance\n",
    "env_uncontrolled = pystorms.scenarios.beta()\n",
    "done = False\n",
    "actions = np.array([1.0, 0.0, 1.0])\n",
    "while not done:\n",
    "    done = env_uncontrolled.step(actions)\n",
    "uncontrolled_perf = sum(env_uncontrolled.data_log[\"performance_measure\"])"
   ]
  },
  {
   "cell_type": "markdown",
   "metadata": {
    "ExecuteTime": {
     "end_time": "2021-07-20T21:05:18.904169Z",
     "start_time": "2021-07-20T21:05:18.900018Z"
    }
   },
   "source": [
    "The performance for this case is computed to be the following:"
   ]
  },
  {
   "cell_type": "code",
   "execution_count": 3,
   "metadata": {
    "ExecuteTime": {
     "end_time": "2021-07-20T21:05:52.277007Z",
     "start_time": "2021-07-20T21:05:52.273680Z"
    }
   },
   "outputs": [
    {
     "name": "stdout",
     "output_type": "stream",
     "text": [
      "2971770.621866018\n"
     ]
    }
   ],
   "source": [
    "print(uncontrolled_perf)"
   ]
  },
  {
   "cell_type": "markdown",
   "metadata": {},
   "source": [
    "## MPC Case"
   ]
  },
  {
   "cell_type": "markdown",
   "metadata": {},
   "source": [
    "The MPC case has built a controller that is based on the actual time of the simulation. The settings are available in the `mpc_rules_beta.csv` file."
   ]
  },
  {
   "cell_type": "code",
   "execution_count": 4,
   "metadata": {
    "ExecuteTime": {
     "end_time": "2021-07-20T21:14:36.305358Z",
     "start_time": "2021-07-20T21:14:36.292208Z"
    }
   },
   "outputs": [
    {
     "data": {
      "text/html": [
       "<div>\n",
       "<style scoped>\n",
       "    .dataframe tbody tr th:only-of-type {\n",
       "        vertical-align: middle;\n",
       "    }\n",
       "\n",
       "    .dataframe tbody tr th {\n",
       "        vertical-align: top;\n",
       "    }\n",
       "\n",
       "    .dataframe thead th {\n",
       "        text-align: right;\n",
       "    }\n",
       "</style>\n",
       "<table border=\"1\" class=\"dataframe\">\n",
       "  <thead>\n",
       "    <tr style=\"text-align: right;\">\n",
       "      <th></th>\n",
       "      <th>datetime</th>\n",
       "      <th>simtime (hr)</th>\n",
       "      <th>R2</th>\n",
       "      <th>P0</th>\n",
       "      <th>W0</th>\n",
       "    </tr>\n",
       "  </thead>\n",
       "  <tbody>\n",
       "    <tr>\n",
       "      <th>0</th>\n",
       "      <td>2016-10-08 00:00:00</td>\n",
       "      <td>0.00</td>\n",
       "      <td>1.000</td>\n",
       "      <td>OFF</td>\n",
       "      <td>1.000</td>\n",
       "    </tr>\n",
       "    <tr>\n",
       "      <th>1</th>\n",
       "      <td>2016-10-08 00:15:00</td>\n",
       "      <td>0.25</td>\n",
       "      <td>1.000</td>\n",
       "      <td>OFF</td>\n",
       "      <td>1.000</td>\n",
       "    </tr>\n",
       "    <tr>\n",
       "      <th>2</th>\n",
       "      <td>2016-10-08 00:30:00</td>\n",
       "      <td>0.50</td>\n",
       "      <td>0.714</td>\n",
       "      <td>OFF</td>\n",
       "      <td>0.000</td>\n",
       "    </tr>\n",
       "    <tr>\n",
       "      <th>3</th>\n",
       "      <td>2016-10-08 00:45:00</td>\n",
       "      <td>0.75</td>\n",
       "      <td>1.000</td>\n",
       "      <td>OFF</td>\n",
       "      <td>0.857</td>\n",
       "    </tr>\n",
       "    <tr>\n",
       "      <th>4</th>\n",
       "      <td>2016-10-08 01:00:00</td>\n",
       "      <td>1.00</td>\n",
       "      <td>0.571</td>\n",
       "      <td>ON</td>\n",
       "      <td>0.571</td>\n",
       "    </tr>\n",
       "    <tr>\n",
       "      <th>...</th>\n",
       "      <td>...</td>\n",
       "      <td>...</td>\n",
       "      <td>...</td>\n",
       "      <td>...</td>\n",
       "      <td>...</td>\n",
       "    </tr>\n",
       "    <tr>\n",
       "      <th>60</th>\n",
       "      <td>2016-10-08 15:00:00</td>\n",
       "      <td>15.00</td>\n",
       "      <td>0.000</td>\n",
       "      <td>OFF</td>\n",
       "      <td>0.000</td>\n",
       "    </tr>\n",
       "    <tr>\n",
       "      <th>61</th>\n",
       "      <td>2016-10-08 15:15:00</td>\n",
       "      <td>15.25</td>\n",
       "      <td>0.000</td>\n",
       "      <td>OFF</td>\n",
       "      <td>0.000</td>\n",
       "    </tr>\n",
       "    <tr>\n",
       "      <th>62</th>\n",
       "      <td>2016-10-08 15:30:00</td>\n",
       "      <td>15.50</td>\n",
       "      <td>0.000</td>\n",
       "      <td>OFF</td>\n",
       "      <td>0.571</td>\n",
       "    </tr>\n",
       "    <tr>\n",
       "      <th>63</th>\n",
       "      <td>2016-10-08 15:45:00</td>\n",
       "      <td>15.75</td>\n",
       "      <td>0.143</td>\n",
       "      <td>ON</td>\n",
       "      <td>0.000</td>\n",
       "    </tr>\n",
       "    <tr>\n",
       "      <th>64</th>\n",
       "      <td>2016-10-08 16:00:00</td>\n",
       "      <td>16.00</td>\n",
       "      <td>0.000</td>\n",
       "      <td>ON</td>\n",
       "      <td>0.000</td>\n",
       "    </tr>\n",
       "  </tbody>\n",
       "</table>\n",
       "<p>65 rows × 5 columns</p>\n",
       "</div>"
      ],
      "text/plain": [
       "              datetime  simtime (hr)     R2   P0     W0\n",
       "0  2016-10-08 00:00:00          0.00  1.000  OFF  1.000\n",
       "1  2016-10-08 00:15:00          0.25  1.000  OFF  1.000\n",
       "2  2016-10-08 00:30:00          0.50  0.714  OFF  0.000\n",
       "3  2016-10-08 00:45:00          0.75  1.000  OFF  0.857\n",
       "4  2016-10-08 01:00:00          1.00  0.571   ON  0.571\n",
       "..                 ...           ...    ...  ...    ...\n",
       "60 2016-10-08 15:00:00         15.00  0.000  OFF  0.000\n",
       "61 2016-10-08 15:15:00         15.25  0.000  OFF  0.000\n",
       "62 2016-10-08 15:30:00         15.50  0.000  OFF  0.571\n",
       "63 2016-10-08 15:45:00         15.75  0.143   ON  0.000\n",
       "64 2016-10-08 16:00:00         16.00  0.000   ON  0.000\n",
       "\n",
       "[65 rows x 5 columns]"
      ]
     },
     "execution_count": 4,
     "metadata": {},
     "output_type": "execute_result"
    }
   ],
   "source": [
    "# obtain the controller details from the .csv file with the control settings and corresponding simulation time\n",
    "mpc_df = pd.read_csv(\"mpc_rules_beta.csv\")\n",
    "mpc_df['datetime'] = pd.to_datetime(mpc_df['datetime'])\n",
    "mpc_df\n",
    "#"
   ]
  },
  {
   "cell_type": "code",
   "execution_count": 5,
   "metadata": {},
   "outputs": [],
   "source": [
    "# convert the dataframe of rules to an easily readable dictionary \n",
    "mpc_df['P0'].replace({\"ON\":1.0, \"OFF\":0.0}, inplace=True)\n",
    "mpc_df.drop(columns=[\"simtime (hr)\"], inplace=True)\n",
    "mpc_datetimes = mpc_df['datetime'].to_list()\n",
    "mpc_controller = mpc_df.set_index('datetime').to_dict()"
   ]
  },
  {
   "cell_type": "code",
   "execution_count": 6,
   "metadata": {},
   "outputs": [
    {
     "name": "stdout",
     "output_type": "stream",
     "text": [
      "\n",
      " o  Retrieving project data"
     ]
    }
   ],
   "source": [
    "# initialize the scenario, and obtain the initial controller settings\n",
    "env_mpc = pystorms.scenarios.beta()\n",
    "controller_datetime = env_mpc.env.getInitialSimulationDateTime()\n",
    "actions = np.array([mpc_controller['R2'][controller_datetime], \n",
    "                    mpc_controller['P0'][controller_datetime], \n",
    "                    mpc_controller['W0'][controller_datetime]])\n",
    "done = False"
   ]
  },
  {
   "cell_type": "code",
   "execution_count": 7,
   "metadata": {
    "ExecuteTime": {
     "end_time": "2021-07-20T21:25:57.066700Z",
     "start_time": "2021-07-20T21:25:21.394381Z"
    }
   },
   "outputs": [],
   "source": [
    "# Run the simulation\n",
    "while not done:\n",
    "    sim_datetime = env_mpc.env.getCurrentSimulationDateTime()\n",
    "    if (sim_datetime >= controller_datetime) and (controller_datetime in mpc_datetimes):\n",
    "        actions = np.array([mpc_controller['R2'][controller_datetime], \n",
    "                            mpc_controller['P0'][controller_datetime], \n",
    "                            mpc_controller['W0'][controller_datetime]])\n",
    "        controller_datetime += timedelta(minutes=15)\n",
    "    done = env_mpc.step(actions)\n",
    "mpc_perf = sum(env_mpc.data_log[\"performance_measure\"])"
   ]
  },
  {
   "cell_type": "code",
   "execution_count": 8,
   "metadata": {},
   "outputs": [
    {
     "name": "stdout",
     "output_type": "stream",
     "text": [
      "2925689.498831413\n"
     ]
    }
   ],
   "source": [
    "print(mpc_perf)\n",
    "#"
   ]
  },
  {
   "cell_type": "markdown",
   "metadata": {},
   "source": [
    "## Results"
   ]
  },
  {
   "cell_type": "markdown",
   "metadata": {},
   "source": [
    "The results are summarized in the following table:"
   ]
  },
  {
   "cell_type": "markdown",
   "metadata": {},
   "source": [
    "|                      |Performance | \n",
    "|----------------------|---------|\n",
    "|Uncontrolled instance | 2971770 | \n",
    "|MPC controller        | 2925689 |"
   ]
  },
  {
   "cell_type": "markdown",
   "metadata": {},
   "source": [
    "As expected, the MPC controller performance better than the uncontrolled instance."
   ]
  },
  {
   "cell_type": "markdown",
   "metadata": {},
   "source": [
    "## Configuration details for Beta"
   ]
  },
  {
   "cell_type": "markdown",
   "metadata": {},
   "source": [
    "```yaml\n",
    "name: beta\n",
    "\n",
    "states:\n",
    "        - !!python/tuple \n",
    "          - \"J33\"\n",
    "          - depthN\n",
    "        - !!python/tuple\n",
    "          - \"J64\"\n",
    "          - depthN\n",
    "        - !!python/tuple \n",
    "          - \"J98\"\n",
    "          - depthN\n",
    "        - !!python/tuple\n",
    "          - \"J102\"\n",
    "          - depthN\n",
    "        - !!python/tuple \n",
    "          - \"OUT0\"\n",
    "          - depthN\n",
    "        - !!python/tuple\n",
    "          - \"ST0\"\n",
    "          - depthN\n",
    "        - !!python/tuple \n",
    "          - \"ST2\"\n",
    "          - depthN\n",
    "\n",
    "action_space:\n",
    "        - R2\n",
    "        - P0\n",
    "        - W0\n",
    "\n",
    "performance_targets:\n",
    "        - !!python/tuple\n",
    "          - J4\n",
    "          - flooding\n",
    "        - !!python/tuple\n",
    "          - J8\n",
    "          - flooding\n",
    "        - !!python/tuple\n",
    "          - J13\n",
    "          - flooding          \n",
    "        - !!python/tuple\n",
    "          - J33\n",
    "          - flooding\n",
    "        - !!python/tuple\n",
    "          - J53\n",
    "          - flooding\n",
    "        - !!python/tuple\n",
    "          - J54\n",
    "          - flooding \n",
    "        - !!python/tuple\n",
    "          - J64\n",
    "          - flooding\n",
    "        - !!python/tuple\n",
    "          - J65\n",
    "          - flooding\n",
    "        - !!python/tuple\n",
    "          - J98\n",
    "          - flooding \n",
    "        - !!python/tuple\n",
    "          - J102\n",
    "          - flooding\n",
    "        - !!python/tuple\n",
    "          - J145\n",
    "          - flooding\n",
    "        - !!python/tuple\n",
    "          - J146\n",
    "          - flooding\n",
    "```"
   ]
  },
  {
   "cell_type": "code",
   "execution_count": null,
   "metadata": {},
   "outputs": [],
   "source": []
  }
 ],
 "metadata": {
  "hide_input": false,
  "kernelspec": {
   "display_name": "Python 3 (ipykernel)",
   "language": "python",
   "name": "python3"
  },
  "language_info": {
   "codemirror_mode": {
    "name": "ipython",
    "version": 3
   },
   "file_extension": ".py",
   "mimetype": "text/x-python",
   "name": "python",
   "nbconvert_exporter": "python",
   "pygments_lexer": "ipython3",
   "version": "3.9.13"
  },
  "toc": {
   "base_numbering": 1,
   "nav_menu": {},
   "number_sections": false,
   "sideBar": false,
   "skip_h1_title": true,
   "title_cell": "Table of Contents",
   "title_sidebar": "Contents",
   "toc_cell": true,
   "toc_position": {},
   "toc_section_display": true,
   "toc_window_display": false
  },
  "varInspector": {
   "cols": {
    "lenName": 16,
    "lenType": 16,
    "lenVar": 40
   },
   "kernels_config": {
    "python": {
     "delete_cmd_postfix": "",
     "delete_cmd_prefix": "del ",
     "library": "var_list.py",
     "varRefreshCmd": "print(var_dic_list())"
    },
    "r": {
     "delete_cmd_postfix": ") ",
     "delete_cmd_prefix": "rm(",
     "library": "var_list.r",
     "varRefreshCmd": "cat(var_dic_list()) "
    }
   },
   "types_to_exclude": [
    "module",
    "function",
    "builtin_function_or_method",
    "instance",
    "_Feature"
   ],
   "window_display": false
  }
 },
 "nbformat": 4,
 "nbformat_minor": 4
}
