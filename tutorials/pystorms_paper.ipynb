{
 "cells": [
  {
   "cell_type": "markdown",
   "id": "bfa19710-b275-4807-a411-1e2c3e817b00",
   "metadata": {},
   "source": [
    "# Getting started with pystorms\n",
    "\n",
    "pystorms works on Windows, OSX, and Linux based operating systems. It requires Python 3.6+ and can be installed via `pip`"
   ]
  },
  {
   "cell_type": "markdown",
   "id": "d6e1ff46-15f1-4a59-a577-7f2771491ab5",
   "metadata": {},
   "source": [
    "```bash\n",
    "pip install pystorms\n",
    "```\n",
    "\n",
    "If you haven't installed Python packages before, please refer to https://packaging.python.org/en/latest/tutorials/installing-packages/"
   ]
  },
  {
   "cell_type": "markdown",
   "id": "f5446a3d-66b5-4ac3-9993-aa01513e30ee",
   "metadata": {},
   "source": [
    "## Simulating a stormwater control scenario\n",
    "\n",
    "`pystorms` has seven scenarios that can used for evaluating and prototyping stormwater control algorithms. This example demonstrates how `scenario theta` for testing a rule-based control algorithm."
   ]
  },
  {
   "cell_type": "code",
   "execution_count": 1,
   "id": "d2d8b9fb-676c-4b1f-bb2d-d64cb86b1912",
   "metadata": {},
   "outputs": [
    {
     "name": "stdout",
     "output_type": "stream",
     "text": [
      "\n",
      " o  Retrieving project data\n",
      " o  Retrieving project data\n",
      "\n",
      "Peformance of the uncontrolled scenario theta: 1630.3422288715237\n",
      "Peformance of the controller on scenario theta: 1125.8162370076384\n"
     ]
    }
   ],
   "source": [
    "import pystorms\n",
    "\n",
    "\n",
    "def rule_based_controller(depths):\n",
    "    \"\"\"\n",
    "    Determines control actions based on depths in the basin\n",
    "\n",
    "    Parameters\n",
    "    ----------\n",
    "    depths : numpy.ndarray\n",
    "        Depth in the basins of the stormwater network at current timestep.\n",
    "\n",
    "    Returns\n",
    "    -------\n",
    "    actions : numpy.ndarray\n",
    "        Gate positions to set at the outlets of basins in the stormwater network at current timestep.\n",
    "\n",
    "\n",
    "    Examples\n",
    "    --------\n",
    "    >>> depths = [1.5, 0.25]\n",
    "    >>> rule_based_controller(depths)\n",
    "    [0.5, 1.0]\n",
    "    \"\"\"\n",
    "    actions = [1.0, 1.0]\n",
    "    # gate positions in SWMM are between 0.0 to 1.0\n",
    "    # 0.0 being completely closed and 1.0 is fully open\n",
    "    for basin_index in range(0, len(depths)):\n",
    "        if depths[basin_index] > 0.5:\n",
    "            actions[basin_index] = 0.5\n",
    "        else:\n",
    "            actions[basin_index] = 0.0\n",
    "    return actions\n",
    "\n",
    "scenario_theta_uncontrolled = pystorms.scenarios.theta()\n",
    "done = False\n",
    "while not done:\n",
    "    # done gets set to True once the simulation ends else it is set to False\n",
    "    # if no argument is passed to the step function, it sets the gate positions to completely open\n",
    "    done = scenario_theta_uncontrolled.step()\n",
    "\n",
    "    \n",
    "scenario_theta_controlled = pystorms.scenarios.theta()\n",
    "done = False\n",
    "while not done:\n",
    "    # get the current state in the stormwater network\n",
    "    # in this scenario, state is the depth in the two controlled basins of the stormwater network\n",
    "    state = scenario_theta_controlled.state()\n",
    "    \n",
    "    # determine the gate positions to set at the outlets of the two controlled basins\n",
    "    actions = rule_based_controller(depths=state)\n",
    "    \n",
    "    # set the gate positions and progress the simulation\n",
    "    # done gets set to True once the simulation ends else it is set to False\n",
    "    done = scenario_theta_controlled.step(actions)\n",
    "    \n",
    "# performance of the control algorithm for scenario theta can be queried using the performance function call\n",
    "print(f\"\\n\\nPeformance of the uncontrolled scenario theta: {scenario_theta_uncontrolled.performance()}\")\n",
    "print(f\"Peformance of the controller on scenario theta: {scenario_theta_controlled.performance()}\")"
   ]
  },
  {
   "cell_type": "markdown",
   "id": "57563f4e-000a-4580-96f2-288c3537cbd5",
   "metadata": {},
   "source": [
    "### `pystorms` API explained"
   ]
  },
  {
   "cell_type": "markdown",
   "id": "93d6135a-adb6-4576-95bc-ff048a3f4d5a",
   "metadata": {},
   "source": [
    "```python\n",
    "<scenario object> = pystorms.scenarios.<scenario name>()\n",
    "```\n",
    "\n",
    "`pystorms` treats each scenario as a class. The seven scenarios in pystorms can be invoked by replacing the scenario name by `theta`, `alpha`, `beta`, `gamma`, `delta`, and `epsilon`. Once the above statement is invoked, it will intialize the scenario, start the stormwater simulation, and hand the control over to the user. Users can then use this to class object to control the simulation."
   ]
  },
  {
   "cell_type": "markdown",
   "id": "9fdead38-2551-4b3c-9297-d7117bf88322",
   "metadata": {},
   "source": [
    "```python\n",
    "state = <scenario object>.state()\n",
    "```\n",
    "\n",
    "`pystorms` scenario class object's `state` method can be used to query state of the stormwater network. This is a `numpy.ndarray`. The attributes in this array can be found in the scenario `.yaml` file. Scenario theta's configuration yaml is below.\n",
    "\n",
    "```yaml\n",
    "# Configuration file for scenario theta \n",
    "# name of scearnio \n",
    "name: theta\n",
    "# state definitions\n",
    "states:\n",
    "        - !!python/tuple \n",
    "          - P1\n",
    "          - depthN\n",
    "        - !!python/tuple\n",
    "          - P2\n",
    "          - depthN\n",
    "# Action space \n",
    "action_space:\n",
    "        - \"1\"\n",
    "        - \"2\"\n",
    "# Performance Targets\n",
    "performance_targets:\n",
    "        - !!python/tuple\n",
    "          - \"8\"\n",
    "          - flow\n",
    "        - !!python/tuple\n",
    "          - P1\n",
    "          - flooding\n",
    "        - !!python/tuple\n",
    "          - P2\n",
    "          - flooding\n",
    "```\n",
    "\n",
    "`state` contains node depth in basin `P1` and node depth in basin `P2` as the first and second elements in the state array. "
   ]
  },
  {
   "cell_type": "markdown",
   "id": "87dd8567-60bf-45ae-84af-4f04fc435656",
   "metadata": {},
   "source": [
    "```python\n",
    "done = <scenario object>.step(actions)\n",
    "```\n",
    "\n",
    "`step(actions)` function implements the control actions, if actions are passed as an argument or else sets the controlled gates to completely open, and progresses the simulation one timestep. If the simulation ends it returns True or else it returns False. "
   ]
  }
 ],
 "metadata": {
  "kernelspec": {
   "display_name": "pystorms",
   "language": "python",
   "name": "pystorms"
  },
  "language_info": {
   "codemirror_mode": {
    "name": "ipython",
    "version": 3
   },
   "file_extension": ".py",
   "mimetype": "text/x-python",
   "name": "python",
   "nbconvert_exporter": "python",
   "pygments_lexer": "ipython3",
   "version": "3.9.13"
  }
 },
 "nbformat": 4,
 "nbformat_minor": 5
}
