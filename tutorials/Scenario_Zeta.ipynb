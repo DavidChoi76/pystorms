{
 "cells": [
  {
   "cell_type": "markdown",
   "metadata": {
    "toc": true
   },
   "source": [
    "<h1>Table of Contents<span class=\"tocSkip\"></span></h1>\n",
    "<div class=\"toc\"><ul class=\"toc-item\"></ul></div>"
   ]
  },
  {
   "cell_type": "code",
   "execution_count": 1,
   "metadata": {
    "ExecuteTime": {
     "end_time": "2021-07-21T17:41:17.314069Z",
     "start_time": "2021-07-21T17:41:02.743767Z"
    }
   },
   "outputs": [],
   "source": [
    "# Import python libraries \n",
    "import pystorms \n",
    "# Python Scientific Computing Stack\n",
    "import numpy as np\n",
    "import pandas as pd\n",
    "# Plotting tools\n",
    "import seaborn as sns\n",
    "from matplotlib import pyplot as plt"
   ]
  },
  {
   "cell_type": "code",
   "execution_count": 2,
   "metadata": {
    "ExecuteTime": {
     "end_time": "2021-07-21T17:41:24.323584Z",
     "start_time": "2021-07-21T17:41:24.318699Z"
    }
   },
   "outputs": [],
   "source": [
    "# set seaborn figure preferences and colors\n",
    "sns.set_context(\"notebook\", font_scale=1.5, rc={\"lines.linewidth\": 2.5})\n",
    "sns.set_style(\"darkgrid\")\n",
    "colorpalette = sns.color_palette(\"colorblind\")\n",
    "colors_hex = colorpalette.as_hex()"
   ]
  },
  {
   "cell_type": "code",
   "execution_count": 3,
   "metadata": {
    "ExecuteTime": {
     "end_time": "2021-07-21T17:41:26.202444Z",
     "start_time": "2021-07-21T17:41:26.199470Z"
    }
   },
   "outputs": [],
   "source": [
    "plt.rcParams['figure.figsize'] = [20, 15]\n",
    "plt.rcParams['figure.dpi'] = 100"
   ]
  },
  {
   "cell_type": "code",
   "execution_count": null,
   "metadata": {},
   "outputs": [],
   "source": []
  },
  {
   "cell_type": "code",
   "execution_count": null,
   "metadata": {},
   "outputs": [],
   "source": []
  },
  {
   "cell_type": "markdown",
   "metadata": {},
   "source": [
    "# Uncontrolled Case"
   ]
  },
  {
   "cell_type": "code",
   "execution_count": 13,
   "metadata": {
    "ExecuteTime": {
     "end_time": "2021-07-21T17:43:07.948813Z",
     "start_time": "2021-07-21T17:43:04.405599Z"
    }
   },
   "outputs": [],
   "source": [
    "################################################################################\n",
    "# Uncontrolled performance - control asset settings are set to all ones\n",
    "################################################################################\n",
    "env_uncontrolled = pystorms.scenarios.zeta()\n",
    "actions = np.array([1.0, 1.0, 1.0, 1.0])\n",
    "done = False\n",
    "while not done:\n",
    "    done = env_uncontrolled.step(actions)\n",
    "uncontrolled_perf = sum(env_uncontrolled.data_log[\"performance_measure\"])"
   ]
  },
  {
   "cell_type": "code",
   "execution_count": 14,
   "metadata": {
    "ExecuteTime": {
     "end_time": "2021-07-21T17:43:08.711546Z",
     "start_time": "2021-07-21T17:43:08.708261Z"
    }
   },
   "outputs": [
    {
     "name": "stdout",
     "output_type": "stream",
     "text": [
      "242393973.35370058\n"
     ]
    }
   ],
   "source": [
    "print(uncontrolled_perf)"
   ]
  },
  {
   "cell_type": "code",
   "execution_count": null,
   "metadata": {},
   "outputs": [],
   "source": []
  },
  {
   "cell_type": "markdown",
   "metadata": {},
   "source": [
    "# Control example - BC Control"
   ]
  },
  {
   "cell_type": "code",
   "execution_count": 15,
   "metadata": {
    "ExecuteTime": {
     "end_time": "2021-07-21T17:43:10.897508Z",
     "start_time": "2021-07-21T17:43:10.893447Z"
    }
   },
   "outputs": [],
   "source": [
    "def bc_control(depths, actions):    \n",
    "    if depths[0] >= 0:\n",
    "        actions[0] = 0.2366\n",
    "        actions[1] = 0.6508\n",
    "        actions[2] = 0.3523\n",
    "        actions[3] = 0.4303\n",
    "    return actions"
   ]
  },
  {
   "cell_type": "code",
   "execution_count": 16,
   "metadata": {
    "ExecuteTime": {
     "end_time": "2021-07-21T17:43:16.187891Z",
     "start_time": "2021-07-21T17:43:12.244877Z"
    }
   },
   "outputs": [],
   "source": [
    "################################################################################\n",
    "# Controlled performance - BC Control implementation\n",
    "################################################################################\n",
    "env_controllerBC = pystorms.scenarios.zeta()\n",
    "done = False\n",
    "currentactions = np.ones(4)\n",
    "while not done:\n",
    "    state = env_controllerBC.state()\n",
    "    newactions = bc_control(state, currentactions)\n",
    "    done = env_controllerBC.step(newactions)\n",
    "    currentactions = newactions\n",
    "controllerBC_perf = sum(env_controllerBC.data_log[\"performance_measure\"])"
   ]
  },
  {
   "cell_type": "code",
   "execution_count": 17,
   "metadata": {
    "ExecuteTime": {
     "end_time": "2021-07-21T17:43:17.088722Z",
     "start_time": "2021-07-21T17:43:17.085346Z"
    }
   },
   "outputs": [
    {
     "name": "stdout",
     "output_type": "stream",
     "text": [
      "284466430.56612784\n"
     ]
    }
   ],
   "source": [
    "print(controllerBC_perf)"
   ]
  },
  {
   "cell_type": "code",
   "execution_count": null,
   "metadata": {},
   "outputs": [],
   "source": []
  },
  {
   "cell_type": "code",
   "execution_count": null,
   "metadata": {},
   "outputs": [],
   "source": []
  },
  {
   "cell_type": "markdown",
   "metadata": {},
   "source": [
    "# Control example - EFD Control"
   ]
  },
  {
   "cell_type": "code",
   "execution_count": 18,
   "metadata": {
    "ExecuteTime": {
     "end_time": "2021-07-21T17:43:19.117345Z",
     "start_time": "2021-07-21T17:43:19.108846Z"
    }
   },
   "outputs": [],
   "source": [
    "def efd_control(depths):\n",
    "    TANKmax = np.argmax(depths) # index 0 is Tank1; 1 is Tank2; 2 is Tank3; 3 is Tank4; index 4 is Tank5; 5 is Tank6\n",
    "    TANKmin = np.argmin(depths) # index 0 is Tank1; 1 is Tank2; 2 is Tank3; 3 is Tank4; index 4 is Tank5; 5 is Tank6\n",
    "    #\n",
    "    V2setting = 0.2366\n",
    "    V3setting = 0.6508\n",
    "    V4setting = 0.3523\n",
    "    V6setting = 0.4303\n",
    "    # Rule EFD01\n",
    "    if (depths < 1).all():\n",
    "        pass\n",
    "    elif TANKmax == 1:\n",
    "        V2setting = 1.0\n",
    "        if TANKmin == 2:\n",
    "            V3setting = 0.3159\n",
    "        elif TANKmin == 3:\n",
    "            V4setting = 0.1894\n",
    "        else:\n",
    "            V6setting = 0.1687\n",
    "    elif TANKmax == 2:\n",
    "        V3setting = 1.0\n",
    "        if TANKmin == 1:\n",
    "            V2setting = 0.1075\n",
    "        elif TANKmin == 3:\n",
    "            V4setting = 0.1894\n",
    "        else:\n",
    "            V6setting = 0.1687\n",
    "    elif TANKmax == 3:\n",
    "        V4setting = 1.0\n",
    "        if TANKmin == 1:\n",
    "            V2setting = 0.1075\n",
    "        elif TANKmin == 2:\n",
    "            V3setting = 0.3159\n",
    "        else:\n",
    "            V6setting = 0.1687\n",
    "    else:\n",
    "        V6setting = 1.0\n",
    "        if TANKmin == 1:\n",
    "            V2setting = 0.1075\n",
    "        elif TANKmin == 2:\n",
    "            V3setting = 0.3159\n",
    "        else:\n",
    "            V4setting = 0.1894\n",
    "    newsettings = np.array([V2setting, V3setting, V4setting, V6setting])\n",
    "    return newsettings"
   ]
  },
  {
   "cell_type": "code",
   "execution_count": 19,
   "metadata": {
    "ExecuteTime": {
     "end_time": "2021-07-21T17:43:23.978765Z",
     "start_time": "2021-07-21T17:43:19.756583Z"
    }
   },
   "outputs": [],
   "source": [
    "################################################################################\n",
    "# Controlled performance - EFD Control implementation\n",
    "################################################################################\n",
    "env_controllerEFD = pystorms.scenarios.zeta()\n",
    "done = False\n",
    "while not done:\n",
    "    state = env_controllerEFD.state()\n",
    "    actions = efd_control(state)\n",
    "    done = env_controllerEFD.step(actions)\n",
    "controllerEFD_perf = sum(env_controllerEFD.data_log[\"performance_measure\"])"
   ]
  },
  {
   "cell_type": "code",
   "execution_count": 20,
   "metadata": {
    "ExecuteTime": {
     "end_time": "2021-07-21T17:43:24.006783Z",
     "start_time": "2021-07-21T17:43:24.003633Z"
    }
   },
   "outputs": [
    {
     "name": "stdout",
     "output_type": "stream",
     "text": [
      "272599609.8939332\n"
     ]
    }
   ],
   "source": [
    "print(controllerEFD_perf)"
   ]
  },
  {
   "cell_type": "code",
   "execution_count": null,
   "metadata": {},
   "outputs": [],
   "source": []
  },
  {
   "cell_type": "code",
   "execution_count": null,
   "metadata": {},
   "outputs": [],
   "source": []
  },
  {
   "cell_type": "markdown",
   "metadata": {},
   "source": [
    "```\n",
    "# Configuration file for scenario zeta\n",
    "\n",
    "# name of scearnio\n",
    "name: zeta\n",
    "# state definitions\n",
    "states:\n",
    "      - !!python/tuple\n",
    "        - \"T1\"\n",
    "        - depthN\n",
    "      - !!python/tuple\n",
    "        - \"T2\"\n",
    "        - depthN\n",
    "      - !!python/tuple\n",
    "        - \"T3\"\n",
    "        - depthN\n",
    "      - !!python/tuple\n",
    "        - \"T4\"\n",
    "        - depthN\n",
    "      - !!python/tuple\n",
    "        - \"T5\"\n",
    "        - depthN\n",
    "      - !!python/tuple\n",
    "        - \"T6\"\n",
    "        - depthN\n",
    "\n",
    "# Action space\n",
    "action_space:\n",
    "      - \"V2\"\n",
    "      - \"V3\"\n",
    "      - \"V4\"\n",
    "      - \"V6\"\n",
    "\n",
    "# Performance Targets\n",
    "performance_targets:\n",
    "      # CSOs to river\n",
    "      - !!python/tuple\n",
    "        - \"T1\"\n",
    "        - flooding\n",
    "      - !!python/tuple\n",
    "        - \"T2\"\n",
    "        - flooding\n",
    "      - !!python/tuple\n",
    "        - \"T3\"\n",
    "        - flooding\n",
    "      - !!python/tuple\n",
    "        - \"T4\"\n",
    "        - flooding\n",
    "      - !!python/tuple\n",
    "        - \"T5\"\n",
    "        - flooding\n",
    "      - !!python/tuple\n",
    "        - \"CSO8\"\n",
    "        - flooding\n",
    "      - !!python/tuple\n",
    "        - \"CSO10\"\n",
    "        - flooding\n",
    "      # CSOs to creek\n",
    "      - !!python/tuple\n",
    "        - \"T6\"\n",
    "        - flooding\n",
    "      - !!python/tuple\n",
    "        - \"CSO7\"\n",
    "        - flooding\n",
    "      - !!python/tuple\n",
    "        - \"CSO9\"\n",
    "        - flooding\n",
    "      # flow to WWTP\n",
    "      - !!python/tuple # Conduit that connects upstream to \"Out_to_WWTP\" node\n",
    "        - \"C14\"\n",
    "        - \"flow\"\n",
    "      # control roughness\n",
    "      - !!python/tuple # flow out of CSO7\n",
    "        - \"C5\"\n",
    "        - \"flow\"\n",
    "      - !!python/tuple # flow out of CSO8\n",
    "        - \"C15\"\n",
    "        - \"flow\"\n",
    "      - !!python/tuple # flow out of CSO9\n",
    "        - \"C8\"\n",
    "        - \"flow\"\n",
    "      - !!python/tuple # flow out of CSO10\n",
    "        - \"C21\"\n",
    "        - \"flow\"\n",
    "      - !!python/tuple # flow out of Tank1\n",
    "        - \"V1\"\n",
    "        - \"flow\"\n",
    "      - !!python/tuple # flow out of Tank2\n",
    "        - \"V2\"\n",
    "        - \"flow\"\n",
    "      - !!python/tuple # flow out of Tank3\n",
    "        - \"V3\"\n",
    "        - \"flow\"\n",
    "      - !!python/tuple # flow out of Tank4\n",
    "        - \"V4\"\n",
    "        - \"flow\"\n",
    "      - !!python/tuple # flow out of Tank5\n",
    "        - \"V5\"\n",
    "        - \"flow\"\n",
    "      - !!python/tuple # flow out of Tank6\n",
    "        - \"V6\"\n",
    "        - \"flow\"\n",
    "```"
   ]
  },
  {
   "cell_type": "code",
   "execution_count": null,
   "metadata": {},
   "outputs": [],
   "source": []
  }
 ],
 "metadata": {
  "hide_input": false,
  "kernelspec": {
   "display_name": "ALL",
   "language": "python",
   "name": "all"
  },
  "language_info": {
   "codemirror_mode": {
    "name": "ipython",
    "version": 3
   },
   "file_extension": ".py",
   "mimetype": "text/x-python",
   "name": "python",
   "nbconvert_exporter": "python",
   "pygments_lexer": "ipython3",
   "version": "3.7.3"
  },
  "toc": {
   "base_numbering": 1,
   "nav_menu": {},
   "number_sections": false,
   "sideBar": false,
   "skip_h1_title": true,
   "title_cell": "Table of Contents",
   "title_sidebar": "Contents",
   "toc_cell": true,
   "toc_position": {},
   "toc_section_display": true,
   "toc_window_display": false
  },
  "varInspector": {
   "cols": {
    "lenName": 16,
    "lenType": 16,
    "lenVar": 40
   },
   "kernels_config": {
    "python": {
     "delete_cmd_postfix": "",
     "delete_cmd_prefix": "del ",
     "library": "var_list.py",
     "varRefreshCmd": "print(var_dic_list())"
    },
    "r": {
     "delete_cmd_postfix": ") ",
     "delete_cmd_prefix": "rm(",
     "library": "var_list.r",
     "varRefreshCmd": "cat(var_dic_list()) "
    }
   },
   "types_to_exclude": [
    "module",
    "function",
    "builtin_function_or_method",
    "instance",
    "_Feature"
   ],
   "window_display": false
  }
 },
 "nbformat": 4,
 "nbformat_minor": 4
}
